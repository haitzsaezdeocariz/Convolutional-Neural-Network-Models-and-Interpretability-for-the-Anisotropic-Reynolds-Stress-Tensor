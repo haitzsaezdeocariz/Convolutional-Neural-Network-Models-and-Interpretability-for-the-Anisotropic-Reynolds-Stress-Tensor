{
 "cells": [
  {
   "cell_type": "code",
   "execution_count": 21,
   "metadata": {},
   "outputs": [],
   "source": [
    "import numpy as np \n",
    "\n",
    "\n",
    "def load_channel_data(filename):\n",
    "    \"\"\"\n",
    "    Load in channel flow data.\n",
    "    \"\"\"\n",
    "\n",
    "    # Load in data from txt file\n",
    "    data = np.loadtxt(filename)\n",
    "    y = data[:, 0]\n",
    "    k = data[:, 1]\n",
    "    eps = data[:, 2]\n",
    "    grad_u_flat = data[:, 3:12]\n",
    "    stresses_flat = data[:, 12:21]\n",
    "    u = data[:, 21:]\n",
    "\n",
    "    # Reshape grad_u and stresses to num_points X 3 X 3 arrays\n",
    "    num_points = data.shape[0]\n",
    "    grad_u = grad_u_flat.reshape(num_points, 3, 3)\n",
    "    stresses = stresses_flat.reshape(num_points, 3, 3)\n",
    "\n",
    "    return k, eps, grad_u, stresses, u, y\n",
    "\n",
    "\n",
    "def save_channel_data(filename, y, k, epsilon, grad_u, stresses, u):\n",
    "    \"\"\"\n",
    "    Save channel flow data.\n",
    "    \"\"\"\n",
    "    header = 'y+, tke, epsilon, grad_u_11, grad_u_12, grad_u_13, grad_u_21, grad_u_22, grad_u_23, \\\n",
    "grad_u_31, grad_u_32, grad_u_33, uu_11, uu_12, uu_13, uu_21, uu_22, uu_23, uu_31, uu_32, uu_33, u_1, u_2, u_3'\n",
    "    \n",
    "    Ny = y.shape[0]\n",
    "    output_array = np.zeros((Ny, 24))\n",
    "    output_array[:, 0] = y\n",
    "    output_array[:, 1] = k\n",
    "    output_array[:, 2] = epsilon\n",
    "    output_array[:, 3:12] = grad_u.reshape(Ny, 9)\n",
    "    output_array[:, 12:21] = stresses.reshape(Ny, 9)\n",
    "    output_array[:, 21:] = u\n",
    "    np.savetxt(filename, output_array, header=header)\n",
    "\n",
    "\n",
    "def moving_average(array, window_size):\n",
    "    \"\"\"\n",
    "    Average over n=window_size neighboring points along axis 0. \n",
    "    \"\"\"\n",
    "    def _moving_average_1d(array): \n",
    "        window = np.ones(int(window_size))/float(window_size)\n",
    "        new_array = np.convolve(array, window, mode='same')\n",
    "        for i in range(int(window_size) // 2):\n",
    "            fac = window_size / (window_size + i - window_size // 2)\n",
    "            new_array[i] *= fac\n",
    "            new_array[-i-1] *= fac \n",
    "        return new_array\n",
    "    \n",
    "    return np.apply_along_axis(_moving_average_1d, axis=0, arr=array)\n",
    "\n",
    "\n",
    "def subsampling(array, interval, start=0):\n",
    "    \"\"\"\n",
    "    Subsample an array along axis 0.   \n",
    "    \"\"\"\n",
    "    \n",
    "    return array[start::interval]"
   ]
  },
  {
   "cell_type": "code",
   "execution_count": 5,
   "metadata": {},
   "outputs": [
    {
     "data": {
      "text/plain": [
       "array([[0, 1],\n",
       "       [2, 3],\n",
       "       [4, 5],\n",
       "       [6, 7],\n",
       "       [8, 9]])"
      ]
     },
     "execution_count": 5,
     "metadata": {},
     "output_type": "execute_result"
    }
   ],
   "source": [
    "arr = np.arange(0, 10).reshape(5,2)\n",
    "arr"
   ]
  },
  {
   "cell_type": "code",
   "execution_count": 4,
   "metadata": {},
   "outputs": [
    {
     "data": {
      "text/plain": [
       "array([[1., 2.],\n",
       "       [2., 3.],\n",
       "       [4., 5.],\n",
       "       [6., 7.],\n",
       "       [7., 8.]])"
      ]
     },
     "execution_count": 4,
     "metadata": {},
     "output_type": "execute_result"
    }
   ],
   "source": [
    "moving_average(arr, 3)"
   ]
  },
  {
   "cell_type": "code",
   "execution_count": 23,
   "metadata": {},
   "outputs": [
    {
     "data": {
      "text/plain": [
       "array([[2, 3],\n",
       "       [8, 9]])"
      ]
     },
     "execution_count": 23,
     "metadata": {},
     "output_type": "execute_result"
    }
   ],
   "source": [
    "subsampling(arr, 3, 1)"
   ]
  },
  {
   "cell_type": "code",
   "execution_count": 29,
   "metadata": {},
   "outputs": [],
   "source": [
    "fname = '../Data/LM_Channel_Retau180.txt'\n",
    "cg_fname = '../Data/LM_Channel_Retau180_cg2.txt'\n",
    "\n",
    "# Load data \n",
    "tke, eps, grad_u, stresses, u, y = load_channel_data(fname)\n",
    "\n",
    "# Coarse-grain data\n",
    "window_size = 3\n",
    "\n",
    "cg_tke = moving_average(tke, window_size=window_size)\n",
    "cg_eps = moving_average(eps, window_size=window_size)\n",
    "cg_grad_u = moving_average(grad_u, window_size=window_size)\n",
    "cg_u = moving_average(u, window_size=window_size)\n",
    "\n",
    "cg_tke = subsampling(cg_tke, window_size) \n",
    "cg_eps = subsampling(cg_eps, window_size) \n",
    "cg_grad_u = subsampling(cg_grad_u, window_size) \n",
    "cg_u = subsampling(cg_u, window_size)\n",
    "y = subsampling(y, window_size)\n",
    "stresses = subsampling(stresses, window_size)\n",
    "\n",
    "# Save to txt file \n",
    "save_channel_data(cg_fname, y, cg_tke, cg_eps, cg_grad_u, stresses, cg_u)"
   ]
  },
  {
   "cell_type": "code",
   "execution_count": null,
   "metadata": {},
   "outputs": [],
   "source": []
  }
 ],
 "metadata": {
  "kernelspec": {
   "display_name": "Python 3",
   "language": "python",
   "name": "python3"
  },
  "language_info": {
   "codemirror_mode": {
    "name": "ipython",
    "version": 3
   },
   "file_extension": ".py",
   "mimetype": "text/x-python",
   "name": "python",
   "nbconvert_exporter": "python",
   "pygments_lexer": "ipython3",
   "version": "3.7.7"
  }
 },
 "nbformat": 4,
 "nbformat_minor": 2
}
